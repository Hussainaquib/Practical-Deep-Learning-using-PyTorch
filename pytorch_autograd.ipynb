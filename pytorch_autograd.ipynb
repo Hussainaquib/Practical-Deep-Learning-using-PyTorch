{
  "nbformat": 4,
  "nbformat_minor": 0,
  "metadata": {
    "colab": {
      "provenance": []
    },
    "kernelspec": {
      "name": "python3",
      "display_name": "Python 3"
    },
    "language_info": {
      "name": "python"
    }
  },
  "cells": [
    {
      "cell_type": "markdown",
      "source": [
        "# Autograd:\n",
        "Auto grad is a core component of PyTorch that provides automatic differentiation for tensor operations. It enables gradient computation, which is essential for training ML models using optimization algorithms like gradient descent."
      ],
      "metadata": {
        "id": "iCHavVNVS6gS"
      }
    },
    {
      "cell_type": "markdown",
      "source": [
        "### Example: 1"
      ],
      "metadata": {
        "id": "HSZqwfeVby-8"
      }
    },
    {
      "cell_type": "markdown",
      "source": [
        "Without Autograd"
      ],
      "metadata": {
        "id": "JVsx4LlJTJ4M"
      }
    },
    {
      "cell_type": "code",
      "execution_count": 68,
      "metadata": {
        "id": "UXPFYGopf4KV"
      },
      "outputs": [],
      "source": [
        "def dy_dx(x):\n",
        "  return 2*x"
      ]
    },
    {
      "cell_type": "code",
      "source": [
        "dy_dx(3)"
      ],
      "metadata": {
        "colab": {
          "base_uri": "https://localhost:8080/"
        },
        "id": "f256ernlf_ce",
        "outputId": "d2d7a1e9-b4fa-4cc8-b9ac-add503de80fa"
      },
      "execution_count": 69,
      "outputs": [
        {
          "output_type": "execute_result",
          "data": {
            "text/plain": [
              "6"
            ]
          },
          "metadata": {},
          "execution_count": 69
        }
      ]
    },
    {
      "cell_type": "markdown",
      "source": [
        "With Autograd"
      ],
      "metadata": {
        "id": "1kZ2pyGRTOiQ"
      }
    },
    {
      "cell_type": "code",
      "source": [
        "import torch"
      ],
      "metadata": {
        "id": "bm_ra2CG21GV"
      },
      "execution_count": 70,
      "outputs": []
    },
    {
      "cell_type": "code",
      "source": [
        "x = torch.tensor(3.0, requires_grad=True)"
      ],
      "metadata": {
        "id": "nvMNlqM521TC"
      },
      "execution_count": 71,
      "outputs": []
    },
    {
      "cell_type": "code",
      "source": [
        "y = x**2"
      ],
      "metadata": {
        "id": "6_iSjcNw21cK"
      },
      "execution_count": 72,
      "outputs": []
    },
    {
      "cell_type": "code",
      "source": [
        "x"
      ],
      "metadata": {
        "colab": {
          "base_uri": "https://localhost:8080/"
        },
        "id": "GUzlzqUu21qk",
        "outputId": "b6c43532-aff2-4c76-d13e-ad5eeb4c4ce1"
      },
      "execution_count": 73,
      "outputs": [
        {
          "output_type": "execute_result",
          "data": {
            "text/plain": [
              "tensor(3., requires_grad=True)"
            ]
          },
          "metadata": {},
          "execution_count": 73
        }
      ]
    },
    {
      "cell_type": "code",
      "source": [
        "y"
      ],
      "metadata": {
        "colab": {
          "base_uri": "https://localhost:8080/"
        },
        "id": "hOVdjAvk4FsY",
        "outputId": "67ba9442-3d6e-4e48-ad8e-03997002dfd7"
      },
      "execution_count": 74,
      "outputs": [
        {
          "output_type": "execute_result",
          "data": {
            "text/plain": [
              "tensor(9., grad_fn=<PowBackward0>)"
            ]
          },
          "metadata": {},
          "execution_count": 74
        }
      ]
    },
    {
      "cell_type": "code",
      "source": [
        "y.backward()"
      ],
      "metadata": {
        "id": "hsmrBTVv4r1A"
      },
      "execution_count": 75,
      "outputs": []
    },
    {
      "cell_type": "code",
      "source": [
        "x.grad"
      ],
      "metadata": {
        "colab": {
          "base_uri": "https://localhost:8080/"
        },
        "id": "Iz4fg9YR4s3V",
        "outputId": "93fc6995-17cb-4b88-97c8-cde48cd6b220"
      },
      "execution_count": 76,
      "outputs": [
        {
          "output_type": "execute_result",
          "data": {
            "text/plain": [
              "tensor(6.)"
            ]
          },
          "metadata": {},
          "execution_count": 76
        }
      ]
    },
    {
      "cell_type": "markdown",
      "source": [
        "### Example: 2"
      ],
      "metadata": {
        "id": "HdC11NCVb87I"
      }
    },
    {
      "cell_type": "markdown",
      "source": [
        "Without Autograd"
      ],
      "metadata": {
        "id": "_wdwZ5fvbfaF"
      }
    },
    {
      "cell_type": "code",
      "source": [
        "import math\n",
        "\n",
        "def dz_dx(x):\n",
        "    return 2 * x * math.cos(x**2)"
      ],
      "metadata": {
        "id": "d_66YDf8gFwS"
      },
      "execution_count": 77,
      "outputs": []
    },
    {
      "cell_type": "code",
      "source": [
        "dz_dx(4)"
      ],
      "metadata": {
        "colab": {
          "base_uri": "https://localhost:8080/"
        },
        "id": "SxPYLAIwgLSW",
        "outputId": "2f267a4b-817c-4fa2-9705-97e40ad9bf5b"
      },
      "execution_count": 78,
      "outputs": [
        {
          "output_type": "execute_result",
          "data": {
            "text/plain": [
              "-7.661275842587077"
            ]
          },
          "metadata": {},
          "execution_count": 78
        }
      ]
    },
    {
      "cell_type": "markdown",
      "source": [
        "With Autograd"
      ],
      "metadata": {
        "id": "UZQ9mSkwbnda"
      }
    },
    {
      "cell_type": "code",
      "source": [
        "x = torch.tensor(4.0, requires_grad=True)"
      ],
      "metadata": {
        "id": "tYHUyJhBgO9d"
      },
      "execution_count": 79,
      "outputs": []
    },
    {
      "cell_type": "code",
      "source": [
        "y = x ** 2"
      ],
      "metadata": {
        "id": "17J3r8mZ8ebE"
      },
      "execution_count": 80,
      "outputs": []
    },
    {
      "cell_type": "code",
      "source": [
        "z = torch.sin(y)"
      ],
      "metadata": {
        "id": "5YDYJEwJ8f7u"
      },
      "execution_count": 81,
      "outputs": []
    },
    {
      "cell_type": "code",
      "source": [
        "x"
      ],
      "metadata": {
        "colab": {
          "base_uri": "https://localhost:8080/"
        },
        "id": "L_RxpqkS-EpK",
        "outputId": "7df17590-a0a2-41da-f5ad-0fa801790d02"
      },
      "execution_count": 82,
      "outputs": [
        {
          "output_type": "execute_result",
          "data": {
            "text/plain": [
              "tensor(4., requires_grad=True)"
            ]
          },
          "metadata": {},
          "execution_count": 82
        }
      ]
    },
    {
      "cell_type": "code",
      "source": [
        "y"
      ],
      "metadata": {
        "colab": {
          "base_uri": "https://localhost:8080/"
        },
        "id": "yAfr7jCr-Fl8",
        "outputId": "2814e113-4672-4cb1-ccc7-ba904ecea137"
      },
      "execution_count": 83,
      "outputs": [
        {
          "output_type": "execute_result",
          "data": {
            "text/plain": [
              "tensor(16., grad_fn=<PowBackward0>)"
            ]
          },
          "metadata": {},
          "execution_count": 83
        }
      ]
    },
    {
      "cell_type": "code",
      "source": [
        "z"
      ],
      "metadata": {
        "colab": {
          "base_uri": "https://localhost:8080/"
        },
        "id": "mspFqkAS-F3h",
        "outputId": "d52cb177-f736-4f41-bd65-091cf99dfcbc"
      },
      "execution_count": 84,
      "outputs": [
        {
          "output_type": "execute_result",
          "data": {
            "text/plain": [
              "tensor(-0.2879, grad_fn=<SinBackward0>)"
            ]
          },
          "metadata": {},
          "execution_count": 84
        }
      ]
    },
    {
      "cell_type": "code",
      "source": [
        "z.backward()"
      ],
      "metadata": {
        "id": "L_gisRUH-GNJ"
      },
      "execution_count": 85,
      "outputs": []
    },
    {
      "cell_type": "code",
      "source": [
        "x.grad"
      ],
      "metadata": {
        "colab": {
          "base_uri": "https://localhost:8080/"
        },
        "id": "h6avVSli-nzp",
        "outputId": "b1858749-a688-4c43-dc22-c3c9aadb992f"
      },
      "execution_count": 86,
      "outputs": [
        {
          "output_type": "execute_result",
          "data": {
            "text/plain": [
              "tensor(-7.6613)"
            ]
          },
          "metadata": {},
          "execution_count": 86
        }
      ]
    },
    {
      "cell_type": "code",
      "source": [
        "y.grad"
      ],
      "metadata": {
        "colab": {
          "base_uri": "https://localhost:8080/"
        },
        "id": "BGO166vr-pvc",
        "outputId": "25602236-39a1-44fe-e7cb-4d716312f96d"
      },
      "execution_count": 87,
      "outputs": [
        {
          "output_type": "stream",
          "name": "stderr",
          "text": [
            "/tmp/ipython-input-486760323.py:1: UserWarning: The .grad attribute of a Tensor that is not a leaf Tensor is being accessed. Its .grad attribute won't be populated during autograd.backward(). If you indeed want the .grad field to be populated for a non-leaf Tensor, use .retain_grad() on the non-leaf Tensor. If you access the non-leaf Tensor by mistake, make sure you access the leaf Tensor instead. See github.com/pytorch/pytorch/pull/30531 for more informations. (Triggered internally at /pytorch/build/aten/src/ATen/core/TensorBody.h:489.)\n",
            "  y.grad\n"
          ]
        }
      ]
    },
    {
      "cell_type": "markdown",
      "source": [
        "### Example: 3"
      ],
      "metadata": {
        "id": "reMitTPdgy00"
      }
    },
    {
      "cell_type": "markdown",
      "source": [
        "Without Autograd"
      ],
      "metadata": {
        "id": "iJWL0wiShCAF"
      }
    },
    {
      "cell_type": "code",
      "source": [
        "import torch\n",
        "\n",
        "# Inputs\n",
        "x = torch.tensor(6.7)  # Input feature\n",
        "y = torch.tensor(0.0)  # True label (binary)\n",
        "\n",
        "w = torch.tensor(1.0)  # Weight\n",
        "b = torch.tensor(0.0)  # Bias"
      ],
      "metadata": {
        "id": "IDA7vJD6TERe"
      },
      "execution_count": 88,
      "outputs": []
    },
    {
      "cell_type": "code",
      "source": [
        "# Binary Cross-Entropy Loss for scalar\n",
        "def binary_cross_entropy_loss(prediction, target):\n",
        "    epsilon = 1e-8  # To prevent log(0)\n",
        "    prediction = torch.clamp(prediction, epsilon, 1 - epsilon)\n",
        "    return -(target * torch.log(prediction) + (1 - target) * torch.log(1 - prediction))"
      ],
      "metadata": {
        "id": "CNcSnxKFVw6_"
      },
      "execution_count": 89,
      "outputs": []
    },
    {
      "cell_type": "code",
      "source": [
        "# Forward pass\n",
        "z = w * x + b  # Weighted sum (linear part)\n",
        "y_pred = torch.sigmoid(z)  # Predicted probability\n",
        "\n",
        "# Compute binary cross-entropy loss\n",
        "loss = binary_cross_entropy_loss(y_pred, y)"
      ],
      "metadata": {
        "id": "Ysa6OOlAVzkI"
      },
      "execution_count": 90,
      "outputs": []
    },
    {
      "cell_type": "code",
      "source": [
        "loss"
      ],
      "metadata": {
        "colab": {
          "base_uri": "https://localhost:8080/"
        },
        "id": "M0U1dFI2aX4n",
        "outputId": "21449012-7f47-4ac9-e8c2-179d973d263b"
      },
      "execution_count": 91,
      "outputs": [
        {
          "output_type": "execute_result",
          "data": {
            "text/plain": [
              "tensor(6.7012)"
            ]
          },
          "metadata": {},
          "execution_count": 91
        }
      ]
    },
    {
      "cell_type": "code",
      "source": [
        "# Derivatives:\n",
        "# 1. dL/d(y_pred): Loss with respect to the prediction (y_pred)\n",
        "dloss_dy_pred = (y_pred - y)/(y_pred*(1-y_pred))\n",
        "\n",
        "# 2. dy_pred/dz: Prediction (y_pred) with respect to z (sigmoid derivative)\n",
        "dy_pred_dz = y_pred * (1 - y_pred)\n",
        "\n",
        "# 3. dz/dw and dz/db: z with respect to w and b\n",
        "dz_dw = x  # dz/dw = x\n",
        "dz_db = 1  # dz/db = 1 (bias contributes directly to z)\n",
        "\n",
        "dL_dw = dloss_dy_pred * dy_pred_dz * dz_dw\n",
        "dL_db = dloss_dy_pred * dy_pred_dz * dz_db"
      ],
      "metadata": {
        "id": "N31_2LUfV2cb"
      },
      "execution_count": 92,
      "outputs": []
    },
    {
      "cell_type": "code",
      "source": [
        "print(f\"Manual Gradient of loss w.r.t weight (dw): {dL_dw}\")\n",
        "print(f\"Manual Gradient of loss w.r.t bias (db): {dL_db}\")"
      ],
      "metadata": {
        "colab": {
          "base_uri": "https://localhost:8080/"
        },
        "id": "OSP5rszqV5GG",
        "outputId": "e2ab4497-19f9-4174-f88d-bcb6325c246b"
      },
      "execution_count": 93,
      "outputs": [
        {
          "output_type": "stream",
          "name": "stdout",
          "text": [
            "Manual Gradient of loss w.r.t weight (dw): 6.691762447357178\n",
            "Manual Gradient of loss w.r.t bias (db): 0.998770534992218\n"
          ]
        }
      ]
    },
    {
      "cell_type": "markdown",
      "source": [
        "With Autograd"
      ],
      "metadata": {
        "id": "Rz0OG2MShFSj"
      }
    },
    {
      "cell_type": "code",
      "source": [
        "x = torch.tensor(6.7)\n",
        "y = torch.tensor(0.0)"
      ],
      "metadata": {
        "id": "3xdGCYz8V-Rh"
      },
      "execution_count": 94,
      "outputs": []
    },
    {
      "cell_type": "code",
      "source": [
        "w = torch.tensor(1.0, requires_grad=True)\n",
        "b = torch.tensor(0.0, requires_grad=True)"
      ],
      "metadata": {
        "id": "9NTVaauoa1CZ"
      },
      "execution_count": 95,
      "outputs": []
    },
    {
      "cell_type": "code",
      "source": [
        "w"
      ],
      "metadata": {
        "colab": {
          "base_uri": "https://localhost:8080/"
        },
        "id": "KTm9Pmf3a8cD",
        "outputId": "701279d3-d63c-448e-c0bf-3fb1ca0d3228"
      },
      "execution_count": 96,
      "outputs": [
        {
          "output_type": "execute_result",
          "data": {
            "text/plain": [
              "tensor(1., requires_grad=True)"
            ]
          },
          "metadata": {},
          "execution_count": 96
        }
      ]
    },
    {
      "cell_type": "code",
      "source": [
        "b"
      ],
      "metadata": {
        "colab": {
          "base_uri": "https://localhost:8080/"
        },
        "id": "AbWal3sIa858",
        "outputId": "aaded0e4-1ee9-4e25-8f14-1e3d3b6ffa30"
      },
      "execution_count": 97,
      "outputs": [
        {
          "output_type": "execute_result",
          "data": {
            "text/plain": [
              "tensor(0., requires_grad=True)"
            ]
          },
          "metadata": {},
          "execution_count": 97
        }
      ]
    },
    {
      "cell_type": "code",
      "source": [
        "z = w*x + b\n",
        "z"
      ],
      "metadata": {
        "colab": {
          "base_uri": "https://localhost:8080/"
        },
        "id": "qvuriIW3a9OY",
        "outputId": "0bfe29cb-81e7-4ed2-fb81-73ac3c4fd4ad"
      },
      "execution_count": 98,
      "outputs": [
        {
          "output_type": "execute_result",
          "data": {
            "text/plain": [
              "tensor(6.7000, grad_fn=<AddBackward0>)"
            ]
          },
          "metadata": {},
          "execution_count": 98
        }
      ]
    },
    {
      "cell_type": "code",
      "source": [
        "y_pred = torch.sigmoid(z)\n",
        "y_pred"
      ],
      "metadata": {
        "colab": {
          "base_uri": "https://localhost:8080/"
        },
        "id": "UUEAvbpcbBlU",
        "outputId": "b7b9b501-e8b5-4201-d6e2-93f792709d29"
      },
      "execution_count": 99,
      "outputs": [
        {
          "output_type": "execute_result",
          "data": {
            "text/plain": [
              "tensor(0.9988, grad_fn=<SigmoidBackward0>)"
            ]
          },
          "metadata": {},
          "execution_count": 99
        }
      ]
    },
    {
      "cell_type": "code",
      "source": [
        "loss = binary_cross_entropy_loss(y_pred, y)\n",
        "loss"
      ],
      "metadata": {
        "colab": {
          "base_uri": "https://localhost:8080/"
        },
        "id": "yKaUqr18bIBd",
        "outputId": "f94d1d6a-954b-4230-dc69-6d9a33aff8f0"
      },
      "execution_count": 100,
      "outputs": [
        {
          "output_type": "execute_result",
          "data": {
            "text/plain": [
              "tensor(6.7012, grad_fn=<NegBackward0>)"
            ]
          },
          "metadata": {},
          "execution_count": 100
        }
      ]
    },
    {
      "cell_type": "code",
      "source": [
        "loss.backward()"
      ],
      "metadata": {
        "id": "Q891gtHabNoB"
      },
      "execution_count": 101,
      "outputs": []
    },
    {
      "cell_type": "code",
      "source": [
        "print(w.grad)\n",
        "print(b.grad)"
      ],
      "metadata": {
        "colab": {
          "base_uri": "https://localhost:8080/"
        },
        "id": "O27utwfFbiw1",
        "outputId": "0ecbed7b-cdd0-4c06-e3c9-894ec3217569"
      },
      "execution_count": 102,
      "outputs": [
        {
          "output_type": "stream",
          "name": "stdout",
          "text": [
            "tensor(6.6918)\n",
            "tensor(0.9988)\n"
          ]
        }
      ]
    },
    {
      "cell_type": "markdown",
      "source": [
        "# Autograd on Vector"
      ],
      "metadata": {
        "id": "tbuPW2caI_gb"
      }
    },
    {
      "cell_type": "markdown",
      "source": [
        "![Screenshot 2025-08-14 162535.png](data:image/png;base64,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)"
      ],
      "metadata": {
        "id": "0mxwdwVMOTCX"
      }
    },
    {
      "cell_type": "code",
      "source": [
        "x = torch.tensor([1.0, 2.0, 3.0], requires_grad=True)"
      ],
      "metadata": {
        "id": "yuKGIgDThWq1"
      },
      "execution_count": 103,
      "outputs": []
    },
    {
      "cell_type": "code",
      "source": [
        "x"
      ],
      "metadata": {
        "colab": {
          "base_uri": "https://localhost:8080/"
        },
        "id": "61pd4iJuijxK",
        "outputId": "b97b9daa-2c9f-420e-dabe-6dcff38062e0"
      },
      "execution_count": 104,
      "outputs": [
        {
          "output_type": "execute_result",
          "data": {
            "text/plain": [
              "tensor([1., 2., 3.], requires_grad=True)"
            ]
          },
          "metadata": {},
          "execution_count": 104
        }
      ]
    },
    {
      "cell_type": "code",
      "source": [
        "y = (x**2).mean()\n",
        "y"
      ],
      "metadata": {
        "colab": {
          "base_uri": "https://localhost:8080/"
        },
        "id": "uFDXqOw7ikIM",
        "outputId": "2e7444cb-f6aa-407b-b4b7-6fa722618e61"
      },
      "execution_count": 105,
      "outputs": [
        {
          "output_type": "execute_result",
          "data": {
            "text/plain": [
              "tensor(4.6667, grad_fn=<MeanBackward0>)"
            ]
          },
          "metadata": {},
          "execution_count": 105
        }
      ]
    },
    {
      "cell_type": "code",
      "source": [
        "y.backward()"
      ],
      "metadata": {
        "id": "tWE_JM2xio9Q"
      },
      "execution_count": 106,
      "outputs": []
    },
    {
      "cell_type": "code",
      "source": [
        "x.grad"
      ],
      "metadata": {
        "colab": {
          "base_uri": "https://localhost:8080/"
        },
        "id": "le70Drbkit_2",
        "outputId": "398a69b4-0294-4bf8-d81f-9642e81d24cc"
      },
      "execution_count": 107,
      "outputs": [
        {
          "output_type": "execute_result",
          "data": {
            "text/plain": [
              "tensor([0.6667, 1.3333, 2.0000])"
            ]
          },
          "metadata": {},
          "execution_count": 107
        }
      ]
    },
    {
      "cell_type": "markdown",
      "source": [
        "If we not clear the gradient then gradient accumulate each time when we run the cell"
      ],
      "metadata": {
        "id": "XRYl37SVKxHU"
      }
    },
    {
      "cell_type": "code",
      "source": [
        "# clearing grad\n",
        "x = torch.tensor(2.0, requires_grad=True)\n",
        "x"
      ],
      "metadata": {
        "colab": {
          "base_uri": "https://localhost:8080/"
        },
        "id": "gcUAtKSFivZ1",
        "outputId": "08537186-64be-4a25-cf13-49fb156eadda"
      },
      "execution_count": 108,
      "outputs": [
        {
          "output_type": "execute_result",
          "data": {
            "text/plain": [
              "tensor(2., requires_grad=True)"
            ]
          },
          "metadata": {},
          "execution_count": 108
        }
      ]
    },
    {
      "cell_type": "code",
      "source": [
        "y = x ** 2\n",
        "y"
      ],
      "metadata": {
        "colab": {
          "base_uri": "https://localhost:8080/"
        },
        "id": "VGml8iABkLUf",
        "outputId": "bd5c6d45-4eca-47d6-871a-d5aea17c8dcd"
      },
      "execution_count": 109,
      "outputs": [
        {
          "output_type": "execute_result",
          "data": {
            "text/plain": [
              "tensor(4., grad_fn=<PowBackward0>)"
            ]
          },
          "metadata": {},
          "execution_count": 109
        }
      ]
    },
    {
      "cell_type": "code",
      "source": [
        "y.backward()"
      ],
      "metadata": {
        "id": "1EkADF0enBdi"
      },
      "execution_count": 110,
      "outputs": []
    },
    {
      "cell_type": "code",
      "source": [
        "x.grad"
      ],
      "metadata": {
        "colab": {
          "base_uri": "https://localhost:8080/"
        },
        "id": "60O_yfrInD_T",
        "outputId": "01296143-0caa-4a35-fdb8-c5c2306c7afa"
      },
      "execution_count": 111,
      "outputs": [
        {
          "output_type": "execute_result",
          "data": {
            "text/plain": [
              "tensor(4.)"
            ]
          },
          "metadata": {},
          "execution_count": 111
        }
      ]
    },
    {
      "cell_type": "code",
      "source": [
        "x.grad.zero_()"
      ],
      "metadata": {
        "colab": {
          "base_uri": "https://localhost:8080/"
        },
        "id": "jxQMMaFqoB4u",
        "outputId": "8c2c166d-5e5a-4a1f-e5ba-d17ff541e2d9"
      },
      "execution_count": 112,
      "outputs": [
        {
          "output_type": "execute_result",
          "data": {
            "text/plain": [
              "tensor(0.)"
            ]
          },
          "metadata": {},
          "execution_count": 112
        }
      ]
    },
    {
      "cell_type": "code",
      "source": [
        "# disable gradient tracking\n",
        "x = torch.tensor(2.0, requires_grad=True)\n",
        "x"
      ],
      "metadata": {
        "colab": {
          "base_uri": "https://localhost:8080/"
        },
        "id": "kGyP-K6ooelo",
        "outputId": "9d49978b-f1ab-46b2-a8dd-24983e247726"
      },
      "execution_count": 113,
      "outputs": [
        {
          "output_type": "execute_result",
          "data": {
            "text/plain": [
              "tensor(2., requires_grad=True)"
            ]
          },
          "metadata": {},
          "execution_count": 113
        }
      ]
    },
    {
      "cell_type": "code",
      "source": [
        "y = x ** 2\n",
        "y"
      ],
      "metadata": {
        "colab": {
          "base_uri": "https://localhost:8080/"
        },
        "id": "LL3tQ2LAq0n-",
        "outputId": "eb378040-3a53-4455-c4d2-1914beebc41b"
      },
      "execution_count": 114,
      "outputs": [
        {
          "output_type": "execute_result",
          "data": {
            "text/plain": [
              "tensor(4., grad_fn=<PowBackward0>)"
            ]
          },
          "metadata": {},
          "execution_count": 114
        }
      ]
    },
    {
      "cell_type": "code",
      "source": [
        "y.backward()"
      ],
      "metadata": {
        "id": "yyOCApZPr7zm"
      },
      "execution_count": 115,
      "outputs": []
    },
    {
      "cell_type": "code",
      "source": [
        "x.grad"
      ],
      "metadata": {
        "colab": {
          "base_uri": "https://localhost:8080/"
        },
        "id": "prQYxP_xr_1l",
        "outputId": "9f92b0e5-67fe-4d4c-c5ea-a72e9c1f69e5"
      },
      "execution_count": 116,
      "outputs": [
        {
          "output_type": "execute_result",
          "data": {
            "text/plain": [
              "tensor(4.)"
            ]
          },
          "metadata": {},
          "execution_count": 116
        }
      ]
    },
    {
      "cell_type": "markdown",
      "source": [
        "# Disable gradient tracking\n",
        "- option 1 - requires_grad_(False)\n",
        "- option 2 - detach()\n",
        "- option 3 - torch.no_grad()"
      ],
      "metadata": {
        "id": "UyQCEet_L4ns"
      }
    },
    {
      "cell_type": "markdown",
      "source": [
        "### option 1 - requires_grad_(False)"
      ],
      "metadata": {
        "id": "jk_VkfA7P8sp"
      }
    },
    {
      "cell_type": "code",
      "source": [
        "x.requires_grad_(False)"
      ],
      "metadata": {
        "colab": {
          "base_uri": "https://localhost:8080/"
        },
        "id": "e-3J1W7BsLiK",
        "outputId": "788aaf8a-1ddb-4eaf-e300-d729974ed3f7"
      },
      "execution_count": 117,
      "outputs": [
        {
          "output_type": "execute_result",
          "data": {
            "text/plain": [
              "tensor(2.)"
            ]
          },
          "metadata": {},
          "execution_count": 117
        }
      ]
    },
    {
      "cell_type": "code",
      "source": [
        "x"
      ],
      "metadata": {
        "colab": {
          "base_uri": "https://localhost:8080/"
        },
        "id": "4eqdqlwzsPR_",
        "outputId": "187b797d-5b4d-4e3a-829b-45aa1511bbeb"
      },
      "execution_count": 118,
      "outputs": [
        {
          "output_type": "execute_result",
          "data": {
            "text/plain": [
              "tensor(2.)"
            ]
          },
          "metadata": {},
          "execution_count": 118
        }
      ]
    },
    {
      "cell_type": "code",
      "source": [
        "y = x ** 2"
      ],
      "metadata": {
        "id": "I6hTHHQZsQbP"
      },
      "execution_count": 119,
      "outputs": []
    },
    {
      "cell_type": "code",
      "source": [
        "y"
      ],
      "metadata": {
        "colab": {
          "base_uri": "https://localhost:8080/"
        },
        "id": "RWh8lxdEsdRa",
        "outputId": "2828d921-9f1b-42c3-bc15-293f552a84e2"
      },
      "execution_count": 120,
      "outputs": [
        {
          "output_type": "execute_result",
          "data": {
            "text/plain": [
              "tensor(4.)"
            ]
          },
          "metadata": {},
          "execution_count": 120
        }
      ]
    },
    {
      "cell_type": "code",
      "source": [
        "# y.backward()\n",
        "# Here we got an error because we clear the gradient"
      ],
      "metadata": {
        "id": "DrW7KpiBsd6Z"
      },
      "execution_count": 121,
      "outputs": []
    },
    {
      "cell_type": "markdown",
      "source": [
        "### option 2 - detach()"
      ],
      "metadata": {
        "id": "CKIEQF5gQBeY"
      }
    },
    {
      "cell_type": "code",
      "source": [
        "x = torch.tensor(2.0, requires_grad=True)\n",
        "x"
      ],
      "metadata": {
        "colab": {
          "base_uri": "https://localhost:8080/"
        },
        "id": "I_Ct0xomsgw7",
        "outputId": "657c4284-21d4-4fda-9a26-41f158b6fd45"
      },
      "execution_count": 122,
      "outputs": [
        {
          "output_type": "execute_result",
          "data": {
            "text/plain": [
              "tensor(2., requires_grad=True)"
            ]
          },
          "metadata": {},
          "execution_count": 122
        }
      ]
    },
    {
      "cell_type": "code",
      "source": [
        "z = x.detach()\n",
        "z"
      ],
      "metadata": {
        "colab": {
          "base_uri": "https://localhost:8080/"
        },
        "id": "1pslVLzLsmO0",
        "outputId": "42eced80-d26f-4edd-af69-749b54148959"
      },
      "execution_count": 123,
      "outputs": [
        {
          "output_type": "execute_result",
          "data": {
            "text/plain": [
              "tensor(2.)"
            ]
          },
          "metadata": {},
          "execution_count": 123
        }
      ]
    },
    {
      "cell_type": "code",
      "source": [
        "y = x ** 2"
      ],
      "metadata": {
        "id": "tXkAjBEcsp_C"
      },
      "execution_count": 124,
      "outputs": []
    },
    {
      "cell_type": "code",
      "source": [
        "y"
      ],
      "metadata": {
        "colab": {
          "base_uri": "https://localhost:8080/"
        },
        "id": "BCm5rnLwsuMt",
        "outputId": "eecd40e1-88e8-47fd-dec2-7c7d388cffda"
      },
      "execution_count": 125,
      "outputs": [
        {
          "output_type": "execute_result",
          "data": {
            "text/plain": [
              "tensor(4., grad_fn=<PowBackward0>)"
            ]
          },
          "metadata": {},
          "execution_count": 125
        }
      ]
    },
    {
      "cell_type": "code",
      "source": [
        "y1 = z ** 2\n",
        "y1"
      ],
      "metadata": {
        "colab": {
          "base_uri": "https://localhost:8080/"
        },
        "id": "-zK-PB97su18",
        "outputId": "6c914acd-15e9-47db-8033-e57fa93b0605"
      },
      "execution_count": 126,
      "outputs": [
        {
          "output_type": "execute_result",
          "data": {
            "text/plain": [
              "tensor(4.)"
            ]
          },
          "metadata": {},
          "execution_count": 126
        }
      ]
    },
    {
      "cell_type": "code",
      "source": [
        "y.backward()"
      ],
      "metadata": {
        "id": "_lQLYSmesxeX"
      },
      "execution_count": 127,
      "outputs": []
    },
    {
      "cell_type": "code",
      "source": [
        "# y1.backward()\n",
        "# Here we got an error because we clear the gradient for y1"
      ],
      "metadata": {
        "id": "yvhtrhXMszVu"
      },
      "execution_count": 128,
      "outputs": []
    },
    {
      "cell_type": "markdown",
      "source": [
        "### option 3 - torch.no_grad()"
      ],
      "metadata": {
        "id": "9Q_HMzFKQHkP"
      }
    },
    {
      "cell_type": "code",
      "source": [
        "x = torch.tensor(2.0, requires_grad=True)\n",
        "x"
      ],
      "metadata": {
        "colab": {
          "base_uri": "https://localhost:8080/"
        },
        "id": "PrpCL8cbs0us",
        "outputId": "6523768d-73ea-4c2f-8095-d75bd2a0ae33"
      },
      "execution_count": 129,
      "outputs": [
        {
          "output_type": "execute_result",
          "data": {
            "text/plain": [
              "tensor(2., requires_grad=True)"
            ]
          },
          "metadata": {},
          "execution_count": 129
        }
      ]
    },
    {
      "cell_type": "code",
      "source": [
        "with torch.no_grad():\n",
        "  y = x ** 2"
      ],
      "metadata": {
        "id": "-vtz5IS5Ng27"
      },
      "execution_count": 130,
      "outputs": []
    },
    {
      "cell_type": "code",
      "source": [
        "y"
      ],
      "metadata": {
        "colab": {
          "base_uri": "https://localhost:8080/"
        },
        "id": "6fIy1hG7NqT-",
        "outputId": "9372c2f3-e012-44e0-edf7-f52ced0cc190"
      },
      "execution_count": 131,
      "outputs": [
        {
          "output_type": "execute_result",
          "data": {
            "text/plain": [
              "tensor(4.)"
            ]
          },
          "metadata": {},
          "execution_count": 131
        }
      ]
    },
    {
      "cell_type": "code",
      "source": [
        "# y.backward()\n",
        "# Here we got an error because we clear the gradient"
      ],
      "metadata": {
        "id": "LhtQpX7kNrkC"
      },
      "execution_count": 132,
      "outputs": []
    }
  ]
}